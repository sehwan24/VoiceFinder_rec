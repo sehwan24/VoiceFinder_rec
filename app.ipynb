{
 "cells": [
  {
   "cell_type": "code",
   "execution_count": null,
   "id": "24cf2848",
   "metadata": {
    "ExecuteTime": {
     "end_time": "2024-06-12T09:08:25.369235Z",
     "start_time": "2024-06-12T09:08:25.365630Z"
    },
    "id": "24cf2848"
   },
   "outputs": [],
   "source": [
    "#pip install flask"
   ]
  },
  {
   "cell_type": "code",
   "execution_count": 1,
   "id": "49fb0259",
   "metadata": {
    "ExecuteTime": {
     "end_time": "2024-06-13T03:44:37.046264Z",
     "start_time": "2024-06-13T03:44:36.488546Z"
    },
    "id": "49fb0259",
    "outputId": "e8f9e754-deaa-4a3b-ef1a-8c13f897352b"
   },
   "outputs": [
    {
     "name": "stdout",
     "output_type": "stream",
     "text": [
      "{'market_ids': 17    12276\n",
      "26    14628\n",
      "27    22649\n",
      "Name: market_id, dtype: int64}\n"
     ]
    },
    {
     "name": "stderr",
     "output_type": "stream",
     "text": [
      "/Users/elena/Documents/2024/24-1 konkuk/VoiceFinder/VoiceFinder_rec/collaborate_filtering.py:29: SettingWithCopyWarning: \n",
      "A value is trying to be set on a copy of a slice from a DataFrame.\n",
      "Try using .loc[row_indexer,col_indexer] = value instead\n",
      "\n",
      "See the caveats in the documentation: https://pandas.pydata.org/pandas-docs/stable/user_guide/indexing.html#returning-a-view-versus-a-copy\n",
      "  users['gender_encoded'] = gender_le.fit_transform(users['gender'])\n",
      "/Users/elena/Documents/2024/24-1 konkuk/VoiceFinder/VoiceFinder_rec/collaborate_filtering.py:37: SettingWithCopyWarning: \n",
      "A value is trying to be set on a copy of a slice from a DataFrame.\n",
      "Try using .loc[row_indexer,col_indexer] = value instead\n",
      "\n",
      "See the caveats in the documentation: https://pandas.pydata.org/pandas-docs/stable/user_guide/indexing.html#returning-a-view-versus-a-copy\n",
      "  users['birth_date'] = users['birth_date'].apply(calculate_age)\n",
      "/Users/elena/Documents/2024/24-1 konkuk/VoiceFinder/VoiceFinder_rec/collaborate_filtering.py:44: SettingWithCopyWarning: \n",
      "A value is trying to be set on a copy of a slice from a DataFrame.\n",
      "Try using .loc[row_indexer,col_indexer] = value instead\n",
      "\n",
      "See the caveats in the documentation: https://pandas.pydata.org/pandas-docs/stable/user_guide/indexing.html#returning-a-view-versus-a-copy\n",
      "  users['age_group'] = pd.cut(users['birth_date'], bins=age_bins, labels=age_labels, right=False)\n",
      "/Users/elena/Documents/2024/24-1 konkuk/VoiceFinder/VoiceFinder_rec/collaborate_filtering.py:45: SettingWithCopyWarning: \n",
      "A value is trying to be set on a copy of a slice from a DataFrame.\n",
      "Try using .loc[row_indexer,col_indexer] = value instead\n",
      "\n",
      "See the caveats in the documentation: https://pandas.pydata.org/pandas-docs/stable/user_guide/indexing.html#returning-a-view-versus-a-copy\n",
      "  users['age_group_encoded'] = LabelEncoder().fit_transform(users['age_group'])\n",
      "/opt/anaconda3/envs/myvenv/lib/python3.11/site-packages/sklearn/preprocessing/_label.py:900: UserWarning: unknown class(es) [' ', \"'\", ',', '[', ']', '가', '강', '건', '격', '결', '교', '기', '뉴', '다', '대', '도', '로', '리', '맛', '메', '모', '및', '부', '분', '비', '서', '설', '성', '션', '수', '스', '시', '식', '약', '양', '에', '예', '요', '용', '위', '은', '음', '의', '이', '인', '정', '좋', '주', '준', '차', '청', '통', '편', '프', '할', '함'] will be ignored\n",
      "  warnings.warn(\n"
     ]
    }
   ],
   "source": [
    "from flask import Flask, request, jsonify\n",
    "import pandas as pd\n",
    "import numpy as np\n",
    "\n",
    "# Assuming the following scripts are in the same directory\n",
    "import collaborate_filtering\n",
    "import hybrid_recsys\n",
    "import content_based\n",
    "\n",
    "#app = Flask(__name__)\n",
    "\n",
    "#@app.route('/recommend', methods=['POST'])\n",
    "\n",
    "def recommend():\n",
    "    '''data = request.json\n",
    "    user_id = data.get('user_id')\n",
    "    fav_food = data.get('fav_food')\n",
    "    cannot_eat = data.get('cant_eat')'''\n",
    "\n",
    "    # 사용자 입력 받기\n",
    "    user_id = 1\n",
    "    cant_eat = \"야채, 두부\"\n",
    "    fav_food = \"새우, 닭발\"\n",
    "\n",
    "    user_profile = {\n",
    "        \"user_id\": int(user_id),\n",
    "        \"cant_eat\": cant_eat,\n",
    "        \"fav_food\": fav_food\n",
    "    }\n",
    "\n",
    "    if not user_id or not fav_food or not cant_eat:\n",
    "        return jsonify({'error': 'Missing required parameters'}), 400\n",
    "\n",
    "    try:\n",
    "        # Here you should call your hybrid recommendation model\n",
    "        recommended_market_ids = hybrid_recsys.get_recommendations(user_profile)\n",
    "        #return jsonify({'market_ids': recommended_market_ids})\n",
    "        return print({'market_ids': recommended_market_ids})\n",
    "\n",
    "    except Exception as e:\n",
    "        #return jsonify({'error': str(e)}), 500\n",
    "        return print({'error': str(e)})\n",
    "    \n",
    "\n",
    "if __name__ == '__main__':\n",
    "    #app.run(debug=True)\n",
    "    recommend()"
   ]
  },
  {
   "cell_type": "code",
   "execution_count": null,
   "id": "40a6c430",
   "metadata": {},
   "outputs": [],
   "source": []
  }
 ],
 "metadata": {
  "colab": {
   "provenance": []
  },
  "kernelspec": {
   "display_name": "Python 3 (ipykernel)",
   "language": "python",
   "name": "python3"
  },
  "language_info": {
   "codemirror_mode": {
    "name": "ipython",
    "version": 3
   },
   "file_extension": ".py",
   "mimetype": "text/x-python",
   "name": "python",
   "nbconvert_exporter": "python",
   "pygments_lexer": "ipython3",
   "version": "3.11.9"
  },
  "toc": {
   "base_numbering": 1,
   "nav_menu": {},
   "number_sections": true,
   "sideBar": true,
   "skip_h1_title": false,
   "title_cell": "Table of Contents",
   "title_sidebar": "Contents",
   "toc_cell": false,
   "toc_position": {},
   "toc_section_display": true,
   "toc_window_display": false
  }
 },
 "nbformat": 4,
 "nbformat_minor": 5
}
